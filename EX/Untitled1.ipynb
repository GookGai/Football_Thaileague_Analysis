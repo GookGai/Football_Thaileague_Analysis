{
 "cells": [
  {
   "cell_type": "code",
   "execution_count": 2,
   "id": "91d46aab",
   "metadata": {},
   "outputs": [],
   "source": [
    "from mplsoccer import Pitch,VerticalPitch\n",
    "import pandas as pd\n",
    "import matplotlib as mpl\n",
    "import matplotlib.pyplot as plt"
   ]
  },
  {
   "cell_type": "code",
   "execution_count": 3,
   "id": "e7cbfb42",
   "metadata": {},
   "outputs": [],
   "source": [
    "df = pd.read_csv('events (1).csv')"
   ]
  },
  {
   "cell_type": "code",
   "execution_count": 4,
   "id": "d59a782a",
   "metadata": {
    "scrolled": true
   },
   "outputs": [
    {
     "data": {
      "text/html": [
       "<div>\n",
       "<style scoped>\n",
       "    .dataframe tbody tr th:only-of-type {\n",
       "        vertical-align: middle;\n",
       "    }\n",
       "\n",
       "    .dataframe tbody tr th {\n",
       "        vertical-align: top;\n",
       "    }\n",
       "\n",
       "    .dataframe thead th {\n",
       "        text-align: right;\n",
       "    }\n",
       "</style>\n",
       "<table border=\"1\" class=\"dataframe\">\n",
       "  <thead>\n",
       "    <tr style=\"text-align: right;\">\n",
       "      <th></th>\n",
       "      <th>Team</th>\n",
       "      <th>Player</th>\n",
       "      <th>Event</th>\n",
       "      <th>Mins</th>\n",
       "      <th>Secs</th>\n",
       "      <th>X</th>\n",
       "      <th>Y</th>\n",
       "      <th>X2</th>\n",
       "      <th>Y2</th>\n",
       "    </tr>\n",
       "  </thead>\n",
       "  <tbody>\n",
       "    <tr>\n",
       "      <th>0</th>\n",
       "      <td>Home</td>\n",
       "      <td>Ono</td>\n",
       "      <td>Pass</td>\n",
       "      <td>0</td>\n",
       "      <td>0</td>\n",
       "      <td>100</td>\n",
       "      <td>100</td>\n",
       "      <td>-</td>\n",
       "      <td>-</td>\n",
       "    </tr>\n",
       "    <tr>\n",
       "      <th>1</th>\n",
       "      <td>Home</td>\n",
       "      <td>Picha</td>\n",
       "      <td>RecPass</td>\n",
       "      <td>0</td>\n",
       "      <td>0</td>\n",
       "      <td>95</td>\n",
       "      <td>63</td>\n",
       "      <td>-</td>\n",
       "      <td>-</td>\n",
       "    </tr>\n",
       "    <tr>\n",
       "      <th>2</th>\n",
       "      <td>Home</td>\n",
       "      <td>Picha</td>\n",
       "      <td>Pass</td>\n",
       "      <td>0</td>\n",
       "      <td>0</td>\n",
       "      <td>95</td>\n",
       "      <td>63</td>\n",
       "      <td>-</td>\n",
       "      <td>-</td>\n",
       "    </tr>\n",
       "    <tr>\n",
       "      <th>3</th>\n",
       "      <td>Home</td>\n",
       "      <td>Supanan</td>\n",
       "      <td>RecPass</td>\n",
       "      <td>0</td>\n",
       "      <td>0</td>\n",
       "      <td>96</td>\n",
       "      <td>45</td>\n",
       "      <td>-</td>\n",
       "      <td>-</td>\n",
       "    </tr>\n",
       "    <tr>\n",
       "      <th>4</th>\n",
       "      <td>Home</td>\n",
       "      <td>Supanan</td>\n",
       "      <td>shootNo</td>\n",
       "      <td>0</td>\n",
       "      <td>0</td>\n",
       "      <td>96</td>\n",
       "      <td>45</td>\n",
       "      <td>-</td>\n",
       "      <td>-</td>\n",
       "    </tr>\n",
       "    <tr>\n",
       "      <th>5</th>\n",
       "      <td>Home</td>\n",
       "      <td>Supanan</td>\n",
       "      <td>fromGoal</td>\n",
       "      <td>0</td>\n",
       "      <td>0</td>\n",
       "      <td>100</td>\n",
       "      <td>50</td>\n",
       "      <td>-</td>\n",
       "      <td>-</td>\n",
       "    </tr>\n",
       "    <tr>\n",
       "      <th>6</th>\n",
       "      <td>Home</td>\n",
       "      <td>Aris</td>\n",
       "      <td>getBall</td>\n",
       "      <td>0</td>\n",
       "      <td>0</td>\n",
       "      <td>97</td>\n",
       "      <td>54</td>\n",
       "      <td>-</td>\n",
       "      <td>-</td>\n",
       "    </tr>\n",
       "    <tr>\n",
       "      <th>7</th>\n",
       "      <td>Home</td>\n",
       "      <td>Aris</td>\n",
       "      <td>Shot</td>\n",
       "      <td>0</td>\n",
       "      <td>0</td>\n",
       "      <td>97</td>\n",
       "      <td>54</td>\n",
       "      <td>-</td>\n",
       "      <td>-</td>\n",
       "    </tr>\n",
       "    <tr>\n",
       "      <th>8</th>\n",
       "      <td>Home</td>\n",
       "      <td>Aris</td>\n",
       "      <td>fromGoal</td>\n",
       "      <td>0</td>\n",
       "      <td>0</td>\n",
       "      <td>100</td>\n",
       "      <td>54</td>\n",
       "      <td>-</td>\n",
       "      <td>-</td>\n",
       "    </tr>\n",
       "  </tbody>\n",
       "</table>\n",
       "</div>"
      ],
      "text/plain": [
       "   Team   Player     Event  Mins  Secs    X    Y X2 Y2\n",
       "0  Home      Ono      Pass     0     0  100  100  -  -\n",
       "1  Home    Picha   RecPass     0     0   95   63  -  -\n",
       "2  Home    Picha      Pass     0     0   95   63  -  -\n",
       "3  Home  Supanan   RecPass     0     0   96   45  -  -\n",
       "4  Home  Supanan   shootNo     0     0   96   45  -  -\n",
       "5  Home  Supanan  fromGoal     0     0  100   50  -  -\n",
       "6  Home     Aris   getBall     0     0   97   54  -  -\n",
       "7  Home     Aris      Shot     0     0   97   54  -  -\n",
       "8  Home     Aris  fromGoal     0     0  100   54  -  -"
      ]
     },
     "execution_count": 4,
     "metadata": {},
     "output_type": "execute_result"
    }
   ],
   "source": [
    "df"
   ]
  },
  {
   "cell_type": "code",
   "execution_count": 5,
   "id": "09a659eb",
   "metadata": {},
   "outputs": [],
   "source": [
    "df['X'] = df['X']*1.2\n",
    "df['Y'] = df['Y']*.8\n"
   ]
  },
  {
   "cell_type": "code",
   "execution_count": 6,
   "id": "6181a3f1",
   "metadata": {},
   "outputs": [
    {
     "data": {
      "text/html": [
       "<div>\n",
       "<style scoped>\n",
       "    .dataframe tbody tr th:only-of-type {\n",
       "        vertical-align: middle;\n",
       "    }\n",
       "\n",
       "    .dataframe tbody tr th {\n",
       "        vertical-align: top;\n",
       "    }\n",
       "\n",
       "    .dataframe thead th {\n",
       "        text-align: right;\n",
       "    }\n",
       "</style>\n",
       "<table border=\"1\" class=\"dataframe\">\n",
       "  <thead>\n",
       "    <tr style=\"text-align: right;\">\n",
       "      <th></th>\n",
       "      <th>Team</th>\n",
       "      <th>Player</th>\n",
       "      <th>Event</th>\n",
       "      <th>Mins</th>\n",
       "      <th>Secs</th>\n",
       "      <th>X</th>\n",
       "      <th>Y</th>\n",
       "      <th>X2</th>\n",
       "      <th>Y2</th>\n",
       "    </tr>\n",
       "  </thead>\n",
       "  <tbody>\n",
       "    <tr>\n",
       "      <th>0</th>\n",
       "      <td>Home</td>\n",
       "      <td>Ono</td>\n",
       "      <td>Pass</td>\n",
       "      <td>0</td>\n",
       "      <td>0</td>\n",
       "      <td>120.0</td>\n",
       "      <td>80.0</td>\n",
       "      <td>-</td>\n",
       "      <td>-</td>\n",
       "    </tr>\n",
       "    <tr>\n",
       "      <th>1</th>\n",
       "      <td>Home</td>\n",
       "      <td>Picha</td>\n",
       "      <td>RecPass</td>\n",
       "      <td>0</td>\n",
       "      <td>0</td>\n",
       "      <td>114.0</td>\n",
       "      <td>50.4</td>\n",
       "      <td>-</td>\n",
       "      <td>-</td>\n",
       "    </tr>\n",
       "    <tr>\n",
       "      <th>2</th>\n",
       "      <td>Home</td>\n",
       "      <td>Picha</td>\n",
       "      <td>Pass</td>\n",
       "      <td>0</td>\n",
       "      <td>0</td>\n",
       "      <td>114.0</td>\n",
       "      <td>50.4</td>\n",
       "      <td>-</td>\n",
       "      <td>-</td>\n",
       "    </tr>\n",
       "    <tr>\n",
       "      <th>3</th>\n",
       "      <td>Home</td>\n",
       "      <td>Supanan</td>\n",
       "      <td>RecPass</td>\n",
       "      <td>0</td>\n",
       "      <td>0</td>\n",
       "      <td>115.2</td>\n",
       "      <td>36.0</td>\n",
       "      <td>-</td>\n",
       "      <td>-</td>\n",
       "    </tr>\n",
       "    <tr>\n",
       "      <th>4</th>\n",
       "      <td>Home</td>\n",
       "      <td>Supanan</td>\n",
       "      <td>shootNo</td>\n",
       "      <td>0</td>\n",
       "      <td>0</td>\n",
       "      <td>115.2</td>\n",
       "      <td>36.0</td>\n",
       "      <td>-</td>\n",
       "      <td>-</td>\n",
       "    </tr>\n",
       "    <tr>\n",
       "      <th>5</th>\n",
       "      <td>Home</td>\n",
       "      <td>Supanan</td>\n",
       "      <td>fromGoal</td>\n",
       "      <td>0</td>\n",
       "      <td>0</td>\n",
       "      <td>120.0</td>\n",
       "      <td>40.0</td>\n",
       "      <td>-</td>\n",
       "      <td>-</td>\n",
       "    </tr>\n",
       "    <tr>\n",
       "      <th>6</th>\n",
       "      <td>Home</td>\n",
       "      <td>Aris</td>\n",
       "      <td>getBall</td>\n",
       "      <td>0</td>\n",
       "      <td>0</td>\n",
       "      <td>116.4</td>\n",
       "      <td>43.2</td>\n",
       "      <td>-</td>\n",
       "      <td>-</td>\n",
       "    </tr>\n",
       "    <tr>\n",
       "      <th>7</th>\n",
       "      <td>Home</td>\n",
       "      <td>Aris</td>\n",
       "      <td>Shot</td>\n",
       "      <td>0</td>\n",
       "      <td>0</td>\n",
       "      <td>116.4</td>\n",
       "      <td>43.2</td>\n",
       "      <td>-</td>\n",
       "      <td>-</td>\n",
       "    </tr>\n",
       "    <tr>\n",
       "      <th>8</th>\n",
       "      <td>Home</td>\n",
       "      <td>Aris</td>\n",
       "      <td>fromGoal</td>\n",
       "      <td>0</td>\n",
       "      <td>0</td>\n",
       "      <td>120.0</td>\n",
       "      <td>43.2</td>\n",
       "      <td>-</td>\n",
       "      <td>-</td>\n",
       "    </tr>\n",
       "  </tbody>\n",
       "</table>\n",
       "</div>"
      ],
      "text/plain": [
       "   Team   Player     Event  Mins  Secs      X     Y X2 Y2\n",
       "0  Home      Ono      Pass     0     0  120.0  80.0  -  -\n",
       "1  Home    Picha   RecPass     0     0  114.0  50.4  -  -\n",
       "2  Home    Picha      Pass     0     0  114.0  50.4  -  -\n",
       "3  Home  Supanan   RecPass     0     0  115.2  36.0  -  -\n",
       "4  Home  Supanan   shootNo     0     0  115.2  36.0  -  -\n",
       "5  Home  Supanan  fromGoal     0     0  120.0  40.0  -  -\n",
       "6  Home     Aris   getBall     0     0  116.4  43.2  -  -\n",
       "7  Home     Aris      Shot     0     0  116.4  43.2  -  -\n",
       "8  Home     Aris  fromGoal     0     0  120.0  43.2  -  -"
      ]
     },
     "execution_count": 6,
     "metadata": {},
     "output_type": "execute_result"
    }
   ],
   "source": [
    "df"
   ]
  },
  {
   "cell_type": "code",
   "execution_count": 7,
   "id": "13e0d7b9",
   "metadata": {},
   "outputs": [],
   "source": [
    "pss = df[df['Event'] == 'Pass' ]\n",
    "rpass = df[df['Event'] == 'RecPass']\n",
    "gbt  =df[df['Event'] == 'getBall']\n",
    "sn = df[df['Event'] == 'shootNo']\n",
    "s = df[df['Event'] == 'Shot']"
   ]
  },
  {
   "cell_type": "code",
   "execution_count": 8,
   "id": "6401c46e",
   "metadata": {},
   "outputs": [
    {
     "data": {
      "text/html": [
       "<div>\n",
       "<style scoped>\n",
       "    .dataframe tbody tr th:only-of-type {\n",
       "        vertical-align: middle;\n",
       "    }\n",
       "\n",
       "    .dataframe tbody tr th {\n",
       "        vertical-align: top;\n",
       "    }\n",
       "\n",
       "    .dataframe thead th {\n",
       "        text-align: right;\n",
       "    }\n",
       "</style>\n",
       "<table border=\"1\" class=\"dataframe\">\n",
       "  <thead>\n",
       "    <tr style=\"text-align: right;\">\n",
       "      <th></th>\n",
       "      <th>Team</th>\n",
       "      <th>Player</th>\n",
       "      <th>Event</th>\n",
       "      <th>Mins</th>\n",
       "      <th>Secs</th>\n",
       "      <th>X</th>\n",
       "      <th>Y</th>\n",
       "      <th>X2</th>\n",
       "      <th>Y2</th>\n",
       "    </tr>\n",
       "  </thead>\n",
       "  <tbody>\n",
       "    <tr>\n",
       "      <th>0</th>\n",
       "      <td>Home</td>\n",
       "      <td>Ono</td>\n",
       "      <td>Pass</td>\n",
       "      <td>0</td>\n",
       "      <td>0</td>\n",
       "      <td>120.0</td>\n",
       "      <td>80.0</td>\n",
       "      <td>-</td>\n",
       "      <td>-</td>\n",
       "    </tr>\n",
       "    <tr>\n",
       "      <th>2</th>\n",
       "      <td>Home</td>\n",
       "      <td>Picha</td>\n",
       "      <td>Pass</td>\n",
       "      <td>0</td>\n",
       "      <td>0</td>\n",
       "      <td>114.0</td>\n",
       "      <td>50.4</td>\n",
       "      <td>-</td>\n",
       "      <td>-</td>\n",
       "    </tr>\n",
       "  </tbody>\n",
       "</table>\n",
       "</div>"
      ],
      "text/plain": [
       "   Team Player Event  Mins  Secs      X     Y X2 Y2\n",
       "0  Home    Ono  Pass     0     0  120.0  80.0  -  -\n",
       "2  Home  Picha  Pass     0     0  114.0  50.4  -  -"
      ]
     },
     "execution_count": 8,
     "metadata": {},
     "output_type": "execute_result"
    }
   ],
   "source": [
    "pss"
   ]
  },
  {
   "cell_type": "code",
   "execution_count": 9,
   "id": "ab720a3e",
   "metadata": {},
   "outputs": [
    {
     "data": {
      "text/html": [
       "<div>\n",
       "<style scoped>\n",
       "    .dataframe tbody tr th:only-of-type {\n",
       "        vertical-align: middle;\n",
       "    }\n",
       "\n",
       "    .dataframe tbody tr th {\n",
       "        vertical-align: top;\n",
       "    }\n",
       "\n",
       "    .dataframe thead th {\n",
       "        text-align: right;\n",
       "    }\n",
       "</style>\n",
       "<table border=\"1\" class=\"dataframe\">\n",
       "  <thead>\n",
       "    <tr style=\"text-align: right;\">\n",
       "      <th></th>\n",
       "      <th>Team</th>\n",
       "      <th>Player</th>\n",
       "      <th>Event</th>\n",
       "      <th>Mins</th>\n",
       "      <th>Secs</th>\n",
       "      <th>X</th>\n",
       "      <th>Y</th>\n",
       "      <th>X2</th>\n",
       "      <th>Y2</th>\n",
       "    </tr>\n",
       "  </thead>\n",
       "  <tbody>\n",
       "    <tr>\n",
       "      <th>1</th>\n",
       "      <td>Home</td>\n",
       "      <td>Picha</td>\n",
       "      <td>RecPass</td>\n",
       "      <td>0</td>\n",
       "      <td>0</td>\n",
       "      <td>114.0</td>\n",
       "      <td>50.4</td>\n",
       "      <td>-</td>\n",
       "      <td>-</td>\n",
       "    </tr>\n",
       "    <tr>\n",
       "      <th>3</th>\n",
       "      <td>Home</td>\n",
       "      <td>Supanan</td>\n",
       "      <td>RecPass</td>\n",
       "      <td>0</td>\n",
       "      <td>0</td>\n",
       "      <td>115.2</td>\n",
       "      <td>36.0</td>\n",
       "      <td>-</td>\n",
       "      <td>-</td>\n",
       "    </tr>\n",
       "  </tbody>\n",
       "</table>\n",
       "</div>"
      ],
      "text/plain": [
       "   Team   Player    Event  Mins  Secs      X     Y X2 Y2\n",
       "1  Home    Picha  RecPass     0     0  114.0  50.4  -  -\n",
       "3  Home  Supanan  RecPass     0     0  115.2  36.0  -  -"
      ]
     },
     "execution_count": 9,
     "metadata": {},
     "output_type": "execute_result"
    }
   ],
   "source": [
    "rpass"
   ]
  },
  {
   "cell_type": "code",
   "execution_count": 10,
   "id": "d5e7857f",
   "metadata": {},
   "outputs": [
    {
     "data": {
      "text/html": [
       "<div>\n",
       "<style scoped>\n",
       "    .dataframe tbody tr th:only-of-type {\n",
       "        vertical-align: middle;\n",
       "    }\n",
       "\n",
       "    .dataframe tbody tr th {\n",
       "        vertical-align: top;\n",
       "    }\n",
       "\n",
       "    .dataframe thead th {\n",
       "        text-align: right;\n",
       "    }\n",
       "</style>\n",
       "<table border=\"1\" class=\"dataframe\">\n",
       "  <thead>\n",
       "    <tr style=\"text-align: right;\">\n",
       "      <th></th>\n",
       "      <th>Team</th>\n",
       "      <th>Player</th>\n",
       "      <th>Event</th>\n",
       "      <th>Mins</th>\n",
       "      <th>Secs</th>\n",
       "      <th>X</th>\n",
       "      <th>Y</th>\n",
       "      <th>X2</th>\n",
       "      <th>Y2</th>\n",
       "    </tr>\n",
       "  </thead>\n",
       "  <tbody>\n",
       "    <tr>\n",
       "      <th>6</th>\n",
       "      <td>Home</td>\n",
       "      <td>Aris</td>\n",
       "      <td>getBall</td>\n",
       "      <td>0</td>\n",
       "      <td>0</td>\n",
       "      <td>116.4</td>\n",
       "      <td>43.2</td>\n",
       "      <td>-</td>\n",
       "      <td>-</td>\n",
       "    </tr>\n",
       "  </tbody>\n",
       "</table>\n",
       "</div>"
      ],
      "text/plain": [
       "   Team Player    Event  Mins  Secs      X     Y X2 Y2\n",
       "6  Home   Aris  getBall     0     0  116.4  43.2  -  -"
      ]
     },
     "execution_count": 10,
     "metadata": {},
     "output_type": "execute_result"
    }
   ],
   "source": [
    "gbt"
   ]
  },
  {
   "cell_type": "code",
   "execution_count": 11,
   "id": "ef036429",
   "metadata": {},
   "outputs": [
    {
     "data": {
      "text/html": [
       "<div>\n",
       "<style scoped>\n",
       "    .dataframe tbody tr th:only-of-type {\n",
       "        vertical-align: middle;\n",
       "    }\n",
       "\n",
       "    .dataframe tbody tr th {\n",
       "        vertical-align: top;\n",
       "    }\n",
       "\n",
       "    .dataframe thead th {\n",
       "        text-align: right;\n",
       "    }\n",
       "</style>\n",
       "<table border=\"1\" class=\"dataframe\">\n",
       "  <thead>\n",
       "    <tr style=\"text-align: right;\">\n",
       "      <th></th>\n",
       "      <th>Team</th>\n",
       "      <th>Player</th>\n",
       "      <th>Event</th>\n",
       "      <th>Mins</th>\n",
       "      <th>Secs</th>\n",
       "      <th>X</th>\n",
       "      <th>Y</th>\n",
       "      <th>X2</th>\n",
       "      <th>Y2</th>\n",
       "    </tr>\n",
       "  </thead>\n",
       "  <tbody>\n",
       "    <tr>\n",
       "      <th>4</th>\n",
       "      <td>Home</td>\n",
       "      <td>Supanan</td>\n",
       "      <td>shootNo</td>\n",
       "      <td>0</td>\n",
       "      <td>0</td>\n",
       "      <td>115.2</td>\n",
       "      <td>36.0</td>\n",
       "      <td>-</td>\n",
       "      <td>-</td>\n",
       "    </tr>\n",
       "  </tbody>\n",
       "</table>\n",
       "</div>"
      ],
      "text/plain": [
       "   Team   Player    Event  Mins  Secs      X     Y X2 Y2\n",
       "4  Home  Supanan  shootNo     0     0  115.2  36.0  -  -"
      ]
     },
     "execution_count": 11,
     "metadata": {},
     "output_type": "execute_result"
    }
   ],
   "source": [
    "sn"
   ]
  },
  {
   "cell_type": "code",
   "execution_count": 12,
   "id": "dce15394",
   "metadata": {},
   "outputs": [
    {
     "data": {
      "text/html": [
       "<div>\n",
       "<style scoped>\n",
       "    .dataframe tbody tr th:only-of-type {\n",
       "        vertical-align: middle;\n",
       "    }\n",
       "\n",
       "    .dataframe tbody tr th {\n",
       "        vertical-align: top;\n",
       "    }\n",
       "\n",
       "    .dataframe thead th {\n",
       "        text-align: right;\n",
       "    }\n",
       "</style>\n",
       "<table border=\"1\" class=\"dataframe\">\n",
       "  <thead>\n",
       "    <tr style=\"text-align: right;\">\n",
       "      <th></th>\n",
       "      <th>Team</th>\n",
       "      <th>Player</th>\n",
       "      <th>Event</th>\n",
       "      <th>Mins</th>\n",
       "      <th>Secs</th>\n",
       "      <th>X</th>\n",
       "      <th>Y</th>\n",
       "      <th>X2</th>\n",
       "      <th>Y2</th>\n",
       "    </tr>\n",
       "  </thead>\n",
       "  <tbody>\n",
       "    <tr>\n",
       "      <th>7</th>\n",
       "      <td>Home</td>\n",
       "      <td>Aris</td>\n",
       "      <td>Shot</td>\n",
       "      <td>0</td>\n",
       "      <td>0</td>\n",
       "      <td>116.4</td>\n",
       "      <td>43.2</td>\n",
       "      <td>-</td>\n",
       "      <td>-</td>\n",
       "    </tr>\n",
       "  </tbody>\n",
       "</table>\n",
       "</div>"
      ],
      "text/plain": [
       "   Team Player Event  Mins  Secs      X     Y X2 Y2\n",
       "7  Home   Aris  Shot     0     0  116.4  43.2  -  -"
      ]
     },
     "execution_count": 12,
     "metadata": {},
     "output_type": "execute_result"
    }
   ],
   "source": [
    "s"
   ]
  },
  {
   "cell_type": "code",
   "execution_count": 13,
   "id": "f900b154",
   "metadata": {},
   "outputs": [],
   "source": [
    "a = df['X']\n",
    "b = df['Y']\n",
    "c = df['Event']"
   ]
  },
  {
   "cell_type": "code",
   "execution_count": 14,
   "id": "b35e22eb",
   "metadata": {},
   "outputs": [
    {
     "name": "stdout",
     "output_type": "stream",
     "text": [
      "0    120.0\n",
      "1    114.0\n",
      "2    114.0\n",
      "3    115.2\n",
      "4    115.2\n",
      "5    120.0\n",
      "6    116.4\n",
      "7    116.4\n",
      "8    120.0\n",
      "Name: X, dtype: float64 0    80.0\n",
      "1    50.4\n",
      "2    50.4\n",
      "3    36.0\n",
      "4    36.0\n",
      "5    40.0\n",
      "6    43.2\n",
      "7    43.2\n",
      "8    43.2\n",
      "Name: Y, dtype: float64 0        Pass\n",
      "1     RecPass\n",
      "2        Pass\n",
      "3     RecPass\n",
      "4     shootNo\n",
      "5    fromGoal\n",
      "6     getBall\n",
      "7        Shot\n",
      "8    fromGoal\n",
      "Name: Event, dtype: object\n"
     ]
    }
   ],
   "source": [
    "print(a,b,c)\n"
   ]
  },
  {
   "cell_type": "code",
   "execution_count": 15,
   "id": "803c29a2",
   "metadata": {
    "scrolled": false
   },
   "outputs": [
    {
     "data": {
      "text/plain": [
       "<matplotlib.collections.PathCollection at 0x1b29bdc66a0>"
      ]
     },
     "execution_count": 15,
     "metadata": {},
     "output_type": "execute_result"
    },
    {
     "data": {
      "image/png": "[encoded data removed]",
      "text/plain": [
       "<Figure size 1440x720 with 1 Axes>"
      ]
     },
     "metadata": {
      "needs_background": "light"
     },
     "output_type": "display_data"
    }
   ],
   "source": [
    "\n",
    "pitch = Pitch(pitch_length=100, pitch_width=100,\n",
    "              axis=True, label=True,pitch_color = '#538053')\n",
    "fig,ax =pitch.draw(figsize =(20,10))\n",
    "\n",
    "for x in range(len(a)-1):\n",
    "    if(c[x] == 'Pass'):\n",
    "        plt.arrow(a[x],b[x],a[x+1]-a[x],b[x+1]-b[x],ls = '--',color = '#A0522D',linewidth = 3)\n",
    "    \n",
    "  \n",
    "plt.scatter(rpass['X'],rpass['Y'],c='#FF00FF',s = 250 )\n",
    "plt.scatter(pss['X'],pss['Y'],c='#B91A4D',s = 250 )\n",
    "plt.scatter(sn['X'],sn['Y'],c='#000080',s = 250 )\n",
    "plt.scatter(s['X'],s['Y'],c='#708090',s = 250 )\n",
    "\n",
    "\n",
    "\n",
    "\n",
    "\n",
    "#for x in range(4):\n",
    "#    plt.text(a[x],b[x]-5, c[x] , fontsize = 12)\n",
    "#plt.arrow(a[0],b[0],a[1]-a[0],b[1]-b[0])\n",
    "#plt.arrow(a[1],b[1],a[2]-a[1],b[2]-b[1])\n",
    "\n"
   ]
  },
  {
   "cell_type": "code",
   "execution_count": 16,
   "id": "bdf99fc6",
   "metadata": {},
   "outputs": [
    {
     "data": {
      "text/plain": [
       "9"
      ]
     },
     "execution_count": 16,
     "metadata": {},
     "output_type": "execute_result"
    }
   ],
   "source": [
    "len(a)"
   ]
  },
  {
   "cell_type": "code",
   "execution_count": 17,
   "id": "d528259e",
   "metadata": {},
   "outputs": [
    {
     "data": {
      "text/plain": [
       "114.0"
      ]
     },
     "execution_count": 17,
     "metadata": {},
     "output_type": "execute_result"
    }
   ],
   "source": [
    "a[1]"
   ]
  },
  {
   "cell_type": "code",
   "execution_count": 18,
   "id": "dcc285f0",
   "metadata": {},
   "outputs": [
    {
     "data": {
      "text/plain": [
       "(0    120.0\n",
       " 1    114.0\n",
       " 2    114.0\n",
       " 3    115.2\n",
       " 4    115.2\n",
       " 5    120.0\n",
       " 6    116.4\n",
       " 7    116.4\n",
       " 8    120.0\n",
       " Name: X, dtype: float64,\n",
       " 0    80.0\n",
       " 1    50.4\n",
       " 2    50.4\n",
       " 3    36.0\n",
       " 4    36.0\n",
       " 5    40.0\n",
       " 6    43.2\n",
       " 7    43.2\n",
       " 8    43.2\n",
       " Name: Y, dtype: float64,\n",
       " 0        Pass\n",
       " 1     RecPass\n",
       " 2        Pass\n",
       " 3     RecPass\n",
       " 4     shootNo\n",
       " 5    fromGoal\n",
       " 6     getBall\n",
       " 7        Shot\n",
       " 8    fromGoal\n",
       " Name: Event, dtype: object)"
      ]
     },
     "execution_count": 18,
     "metadata": {},
     "output_type": "execute_result"
    }
   ],
   "source": [
    "a,b,c\n",
    "\n"
   ]
  },
  {
   "cell_type": "code",
   "execution_count": 20,
   "id": "12d3edc4",
   "metadata": {},
   "outputs": [
    {
     "data": {
      "text/plain": [
       "<matplotlib.collections.PathCollection at 0x1b29c158bb0>"
      ]
     },
     "execution_count": 20,
     "metadata": {},
     "output_type": "execute_result"
    },
    {
     "data": {
      "image/png": "[encoded data removed]",
      "text/plain": [
       "<Figure size 1440x720 with 1 Axes>"
      ]
     },
     "metadata": {
      "needs_background": "light"
     },
     "output_type": "display_data"
    }
   ],
   "source": [
    "pitch = VerticalPitch(pitch_length=100, pitch_width=100,\n",
    "              axis=True, label=True,pitch_color = '#538053')\n",
    "fig,ax =pitch.draw(figsize =(20,10))\n",
    "\n",
    "\n",
    " \n",
    "#plt.scatter(rpass['Y'],rpass['X'],c='#FF00FF' )\n",
    "plt.scatter(pss['Y'],pss['X'],c='#B91A4D',s = 500,alpha = 0.7)\n",
    "plt.scatter(sn['Y'],sn['X'],c='#000080',s = 500 )\n",
    "plt.scatter(s['Y'],s['X'],c='#708090',s = 500 )\n",
    "\n",
    "\n",
    "\n"
   ]
  },
  {
   "cell_type": "code",
   "execution_count": null,
   "id": "70d83c71",
   "metadata": {},
   "outputs": [],
   "source": []
  },
  {
   "cell_type": "code",
   "execution_count": null,
   "id": "d46463cf",
   "metadata": {},
   "outputs": [],
   "source": []
  }
 ],
 "metadata": {
  "kernelspec": {
   "display_name": "Python 3",
   "language": "python",
   "name": "python3"
  },
  "language_info": {
   "codemirror_mode": {
    "name": "ipython",
    "version": 3
   },
   "file_extension": ".py",
   "mimetype": "text/x-python",
   "name": "python",
   "nbconvert_exporter": "python",
   "pygments_lexer": "ipython3",
   "version": "3.8.8"
  }
 },
 "nbformat": 4,
 "nbformat_minor": 5
}
