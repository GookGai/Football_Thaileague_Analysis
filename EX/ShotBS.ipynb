{
 "cells": [
  {
   "cell_type": "code",
   "execution_count": 1,
   "id": "1ccf94ee",
   "metadata": {},
   "outputs": [],
   "source": [
    "from mplsoccer import Pitch,VerticalPitch\n",
    "import pandas as pd\n",
    "import matplotlib as mpl\n",
    "import matplotlib.pyplot as plt"
   ]
  },
  {
   "cell_type": "code",
   "execution_count": 2,
   "id": "1f90914a",
   "metadata": {},
   "outputs": [],
   "source": [
    "datashot = pd.read_csv('shot.csv')"
   ]
  },
  {
   "cell_type": "code",
   "execution_count": 4,
   "id": "497bc971",
   "metadata": {},
   "outputs": [
    {
     "data": {
      "text/html": [
       "<div>\n",
       "<style scoped>\n",
       "    .dataframe tbody tr th:only-of-type {\n",
       "        vertical-align: middle;\n",
       "    }\n",
       "\n",
       "    .dataframe tbody tr th {\n",
       "        vertical-align: top;\n",
       "    }\n",
       "\n",
       "    .dataframe thead th {\n",
       "        text-align: right;\n",
       "    }\n",
       "</style>\n",
       "<table border=\"1\" class=\"dataframe\">\n",
       "  <thead>\n",
       "    <tr style=\"text-align: right;\">\n",
       "      <th></th>\n",
       "      <th>Team</th>\n",
       "      <th>Player</th>\n",
       "      <th>Event</th>\n",
       "      <th>Mins</th>\n",
       "      <th>Secs</th>\n",
       "      <th>X</th>\n",
       "      <th>Y</th>\n",
       "      <th>X2</th>\n",
       "      <th>Y2</th>\n",
       "    </tr>\n",
       "  </thead>\n",
       "  <tbody>\n",
       "    <tr>\n",
       "      <th>0</th>\n",
       "      <td>Home</td>\n",
       "      <td>suphanan</td>\n",
       "      <td>ShotOnTargetHead</td>\n",
       "      <td>42</td>\n",
       "      <td>1</td>\n",
       "      <td>95</td>\n",
       "      <td>47</td>\n",
       "      <td>-</td>\n",
       "      <td>-</td>\n",
       "    </tr>\n",
       "    <tr>\n",
       "      <th>1</th>\n",
       "      <td>Home</td>\n",
       "      <td>aris</td>\n",
       "      <td>ShotGetGoalHead</td>\n",
       "      <td>42</td>\n",
       "      <td>1</td>\n",
       "      <td>97</td>\n",
       "      <td>55</td>\n",
       "      <td>-</td>\n",
       "      <td>-</td>\n",
       "    </tr>\n",
       "    <tr>\n",
       "      <th>2</th>\n",
       "      <td>Home</td>\n",
       "      <td>chayawat</td>\n",
       "      <td>ShotBlockRight</td>\n",
       "      <td>41</td>\n",
       "      <td>56</td>\n",
       "      <td>89</td>\n",
       "      <td>48</td>\n",
       "      <td>-</td>\n",
       "      <td>-</td>\n",
       "    </tr>\n",
       "    <tr>\n",
       "      <th>3</th>\n",
       "      <td>Home</td>\n",
       "      <td>suphanan</td>\n",
       "      <td>ShotOffTargetRight</td>\n",
       "      <td>41</td>\n",
       "      <td>56</td>\n",
       "      <td>79</td>\n",
       "      <td>72</td>\n",
       "      <td>-</td>\n",
       "      <td>-</td>\n",
       "    </tr>\n",
       "    <tr>\n",
       "      <th>4</th>\n",
       "      <td>Home</td>\n",
       "      <td>pedro</td>\n",
       "      <td>ShotBlockRight</td>\n",
       "      <td>42</td>\n",
       "      <td>1</td>\n",
       "      <td>82</td>\n",
       "      <td>57</td>\n",
       "      <td>-</td>\n",
       "      <td>-</td>\n",
       "    </tr>\n",
       "    <tr>\n",
       "      <th>5</th>\n",
       "      <td>Home</td>\n",
       "      <td>pedro</td>\n",
       "      <td>ShotBlockLeft</td>\n",
       "      <td>42</td>\n",
       "      <td>1</td>\n",
       "      <td>83</td>\n",
       "      <td>66</td>\n",
       "      <td>-</td>\n",
       "      <td>-</td>\n",
       "    </tr>\n",
       "    <tr>\n",
       "      <th>6</th>\n",
       "      <td>Home</td>\n",
       "      <td>suphanan</td>\n",
       "      <td>ShotOffTargetHead</td>\n",
       "      <td>42</td>\n",
       "      <td>1</td>\n",
       "      <td>92</td>\n",
       "      <td>58</td>\n",
       "      <td>-</td>\n",
       "      <td>-</td>\n",
       "    </tr>\n",
       "    <tr>\n",
       "      <th>7</th>\n",
       "      <td>Home</td>\n",
       "      <td>jaroensak</td>\n",
       "      <td>ShotOffTargetRight</td>\n",
       "      <td>42</td>\n",
       "      <td>1</td>\n",
       "      <td>81</td>\n",
       "      <td>21</td>\n",
       "      <td>-</td>\n",
       "      <td>-</td>\n",
       "    </tr>\n",
       "    <tr>\n",
       "      <th>8</th>\n",
       "      <td>Home</td>\n",
       "      <td>pedro</td>\n",
       "      <td>ShotBlockRight</td>\n",
       "      <td>42</td>\n",
       "      <td>1</td>\n",
       "      <td>81</td>\n",
       "      <td>34</td>\n",
       "      <td>-</td>\n",
       "      <td>-</td>\n",
       "    </tr>\n",
       "    <tr>\n",
       "      <th>9</th>\n",
       "      <td>Home</td>\n",
       "      <td>suphanan</td>\n",
       "      <td>ShotOffTargetRight</td>\n",
       "      <td>42</td>\n",
       "      <td>1</td>\n",
       "      <td>89</td>\n",
       "      <td>46</td>\n",
       "      <td>-</td>\n",
       "      <td>-</td>\n",
       "    </tr>\n",
       "  </tbody>\n",
       "</table>\n",
       "</div>"
      ],
      "text/plain": [
       "   Team     Player               Event  Mins  Secs   X   Y X2 Y2\n",
       "0  Home   suphanan    ShotOnTargetHead    42     1  95  47  -  -\n",
       "1  Home       aris     ShotGetGoalHead    42     1  97  55  -  -\n",
       "2  Home   chayawat      ShotBlockRight    41    56  89  48  -  -\n",
       "3  Home   suphanan  ShotOffTargetRight    41    56  79  72  -  -\n",
       "4  Home      pedro      ShotBlockRight    42     1  82  57  -  -\n",
       "5  Home      pedro       ShotBlockLeft    42     1  83  66  -  -\n",
       "6  Home   suphanan   ShotOffTargetHead    42     1  92  58  -  -\n",
       "7  Home  jaroensak  ShotOffTargetRight    42     1  81  21  -  -\n",
       "8  Home      pedro      ShotBlockRight    42     1  81  34  -  -\n",
       "9  Home   suphanan  ShotOffTargetRight    42     1  89  46  -  -"
      ]
     },
     "execution_count": 4,
     "metadata": {},
     "output_type": "execute_result"
    }
   ],
   "source": [
    "datashot\n"
   ]
  },
  {
   "cell_type": "code",
   "execution_count": 5,
   "id": "a170dbb1",
   "metadata": {},
   "outputs": [],
   "source": [
    "datashot['X'] = datashot['X']*1.2\n",
    "datashot['Y'] = datashot['Y']*.8"
   ]
  },
  {
   "cell_type": "code",
   "execution_count": 6,
   "id": "9f550706",
   "metadata": {},
   "outputs": [
    {
     "data": {
      "text/html": [
       "<div>\n",
       "<style scoped>\n",
       "    .dataframe tbody tr th:only-of-type {\n",
       "        vertical-align: middle;\n",
       "    }\n",
       "\n",
       "    .dataframe tbody tr th {\n",
       "        vertical-align: top;\n",
       "    }\n",
       "\n",
       "    .dataframe thead th {\n",
       "        text-align: right;\n",
       "    }\n",
       "</style>\n",
       "<table border=\"1\" class=\"dataframe\">\n",
       "  <thead>\n",
       "    <tr style=\"text-align: right;\">\n",
       "      <th></th>\n",
       "      <th>Team</th>\n",
       "      <th>Player</th>\n",
       "      <th>Event</th>\n",
       "      <th>Mins</th>\n",
       "      <th>Secs</th>\n",
       "      <th>X</th>\n",
       "      <th>Y</th>\n",
       "      <th>X2</th>\n",
       "      <th>Y2</th>\n",
       "    </tr>\n",
       "  </thead>\n",
       "  <tbody>\n",
       "    <tr>\n",
       "      <th>0</th>\n",
       "      <td>Home</td>\n",
       "      <td>suphanan</td>\n",
       "      <td>ShotOnTargetHead</td>\n",
       "      <td>42</td>\n",
       "      <td>1</td>\n",
       "      <td>114.0</td>\n",
       "      <td>37.6</td>\n",
       "      <td>-</td>\n",
       "      <td>-</td>\n",
       "    </tr>\n",
       "    <tr>\n",
       "      <th>1</th>\n",
       "      <td>Home</td>\n",
       "      <td>aris</td>\n",
       "      <td>ShotGetGoalHead</td>\n",
       "      <td>42</td>\n",
       "      <td>1</td>\n",
       "      <td>116.4</td>\n",
       "      <td>44.0</td>\n",
       "      <td>-</td>\n",
       "      <td>-</td>\n",
       "    </tr>\n",
       "    <tr>\n",
       "      <th>2</th>\n",
       "      <td>Home</td>\n",
       "      <td>chayawat</td>\n",
       "      <td>ShotBlockRight</td>\n",
       "      <td>41</td>\n",
       "      <td>56</td>\n",
       "      <td>106.8</td>\n",
       "      <td>38.4</td>\n",
       "      <td>-</td>\n",
       "      <td>-</td>\n",
       "    </tr>\n",
       "    <tr>\n",
       "      <th>3</th>\n",
       "      <td>Home</td>\n",
       "      <td>suphanan</td>\n",
       "      <td>ShotOffTargetRight</td>\n",
       "      <td>41</td>\n",
       "      <td>56</td>\n",
       "      <td>94.8</td>\n",
       "      <td>57.6</td>\n",
       "      <td>-</td>\n",
       "      <td>-</td>\n",
       "    </tr>\n",
       "    <tr>\n",
       "      <th>4</th>\n",
       "      <td>Home</td>\n",
       "      <td>pedro</td>\n",
       "      <td>ShotBlockRight</td>\n",
       "      <td>42</td>\n",
       "      <td>1</td>\n",
       "      <td>98.4</td>\n",
       "      <td>45.6</td>\n",
       "      <td>-</td>\n",
       "      <td>-</td>\n",
       "    </tr>\n",
       "    <tr>\n",
       "      <th>5</th>\n",
       "      <td>Home</td>\n",
       "      <td>pedro</td>\n",
       "      <td>ShotBlockLeft</td>\n",
       "      <td>42</td>\n",
       "      <td>1</td>\n",
       "      <td>99.6</td>\n",
       "      <td>52.8</td>\n",
       "      <td>-</td>\n",
       "      <td>-</td>\n",
       "    </tr>\n",
       "    <tr>\n",
       "      <th>6</th>\n",
       "      <td>Home</td>\n",
       "      <td>suphanan</td>\n",
       "      <td>ShotOffTargetHead</td>\n",
       "      <td>42</td>\n",
       "      <td>1</td>\n",
       "      <td>110.4</td>\n",
       "      <td>46.4</td>\n",
       "      <td>-</td>\n",
       "      <td>-</td>\n",
       "    </tr>\n",
       "    <tr>\n",
       "      <th>7</th>\n",
       "      <td>Home</td>\n",
       "      <td>jaroensak</td>\n",
       "      <td>ShotOffTargetRight</td>\n",
       "      <td>42</td>\n",
       "      <td>1</td>\n",
       "      <td>97.2</td>\n",
       "      <td>16.8</td>\n",
       "      <td>-</td>\n",
       "      <td>-</td>\n",
       "    </tr>\n",
       "    <tr>\n",
       "      <th>8</th>\n",
       "      <td>Home</td>\n",
       "      <td>pedro</td>\n",
       "      <td>ShotBlockRight</td>\n",
       "      <td>42</td>\n",
       "      <td>1</td>\n",
       "      <td>97.2</td>\n",
       "      <td>27.2</td>\n",
       "      <td>-</td>\n",
       "      <td>-</td>\n",
       "    </tr>\n",
       "    <tr>\n",
       "      <th>9</th>\n",
       "      <td>Home</td>\n",
       "      <td>suphanan</td>\n",
       "      <td>ShotOffTargetRight</td>\n",
       "      <td>42</td>\n",
       "      <td>1</td>\n",
       "      <td>106.8</td>\n",
       "      <td>36.8</td>\n",
       "      <td>-</td>\n",
       "      <td>-</td>\n",
       "    </tr>\n",
       "  </tbody>\n",
       "</table>\n",
       "</div>"
      ],
      "text/plain": [
       "   Team     Player               Event  Mins  Secs      X     Y X2 Y2\n",
       "0  Home   suphanan    ShotOnTargetHead    42     1  114.0  37.6  -  -\n",
       "1  Home       aris     ShotGetGoalHead    42     1  116.4  44.0  -  -\n",
       "2  Home   chayawat      ShotBlockRight    41    56  106.8  38.4  -  -\n",
       "3  Home   suphanan  ShotOffTargetRight    41    56   94.8  57.6  -  -\n",
       "4  Home      pedro      ShotBlockRight    42     1   98.4  45.6  -  -\n",
       "5  Home      pedro       ShotBlockLeft    42     1   99.6  52.8  -  -\n",
       "6  Home   suphanan   ShotOffTargetHead    42     1  110.4  46.4  -  -\n",
       "7  Home  jaroensak  ShotOffTargetRight    42     1   97.2  16.8  -  -\n",
       "8  Home      pedro      ShotBlockRight    42     1   97.2  27.2  -  -\n",
       "9  Home   suphanan  ShotOffTargetRight    42     1  106.8  36.8  -  -"
      ]
     },
     "execution_count": 6,
     "metadata": {},
     "output_type": "execute_result"
    }
   ],
   "source": [
    "datashot"
   ]
  },
  {
   "cell_type": "code",
   "execution_count": 7,
   "id": "456d5a2f",
   "metadata": {},
   "outputs": [],
   "source": [
    "sonL = datashot[datashot['Event'] == 'ShotOnTargetLeft' ]\n",
    "sofL = datashot[datashot['Event'] == 'ShotOffTargetLeft' ]\n",
    "sggL = datashot[datashot['Event'] == 'ShotGetGoalLeft' ]\n",
    "#\n",
    "sonR = datashot[datashot['Event'] == 'ShotOnTargetRight' ]\n",
    "sofR = datashot[datashot['Event'] == 'ShotOffTargetRight' ]\n",
    "sggR = datashot[datashot['Event'] == 'ShotGetGoalRight' ]\n",
    "#\n",
    "sonH = datashot[datashot['Event'] == 'ShotOnTargetHead' ]\n",
    "sofH = datashot[datashot['Event'] == 'ShotOffTargetHead' ]\n",
    "sggH = datashot[datashot['Event'] == 'ShotGetGoalHead' ]\n",
    "#\n",
    "sbL = datashot[datashot['Event'] == 'ShotBlockLeft' ]\n",
    "sbR = datashot[datashot['Event'] == 'ShotBlockRight' ]\n",
    "sbH = datashot[datashot['Event'] == 'ShotBlockHead' ]"
   ]
  },
  {
   "cell_type": "code",
   "execution_count": 8,
   "id": "52e36f32",
   "metadata": {},
   "outputs": [],
   "source": [
    "shX = datashot['X']\n",
    "shY = datashot['Y']\n",
    "shName = datashot['Player']"
   ]
  },
  {
   "cell_type": "code",
   "execution_count": 13,
   "id": "9f4b3bbb",
   "metadata": {},
   "outputs": [
    {
     "data": {
      "text/plain": [
       "<matplotlib.collections.PathCollection at 0x1df10f43cd0>"
      ]
     },
     "execution_count": 13,
     "metadata": {},
     "output_type": "execute_result"
    },
    {
     "data": {
      "image/png": "[encoded data removed]",
      "text/plain": [
       "<Figure size 1440x720 with 1 Axes>"
      ]
     },
     "metadata": {
      "needs_background": "light"
     },
     "output_type": "display_data"
    }
   ],
   "source": [
    "pitch = VerticalPitch(pitch_length=100, pitch_width=100,\n",
    "              axis=True, label=True,pitch_color = '#538053',half=True)\n",
    "fig,ax =pitch.draw(figsize =(20,10))\n",
    "\n",
    "plt.scatter(datashot['Y'],datashot['X'],s = 250)"
   ]
  },
  {
   "cell_type": "code",
   "execution_count": 9,
   "id": "c3376c28",
   "metadata": {},
   "outputs": [
    {
     "data": {
      "text/plain": [
       "<matplotlib.collections.PathCollection at 0x1df107e2280>"
      ]
     },
     "execution_count": 9,
     "metadata": {},
     "output_type": "execute_result"
    },
    {
     "data": {
      "image/png": "[encoded data removed]",
      "text/plain": [
       "<Figure size 1440x720 with 1 Axes>"
      ]
     },
     "metadata": {
      "needs_background": "light"
     },
     "output_type": "display_data"
    }
   ],
   "source": [
    "pitch = VerticalPitch(pitch_length=100, pitch_width=100,\n",
    "              axis=True, label=True,pitch_color = '#538053',half=True)\n",
    "fig,ax =pitch.draw(figsize =(20,10))\n",
    "    \n",
    "plt.scatter(sonL['Y'],sonL['X'],c='#BE2AF3',s = 250,marker = \"^\")\n",
    "plt.scatter(sofL['Y'],sofL['X'],c='#BE2AF3',s = 250,marker = \"h\")\n",
    "plt.scatter(sggL['Y'],sggL['X'],c='#BE2AF3',s = 250 ,marker = '*')\n",
    "plt.scatter(sbL['Y'],sbL['X'],c='#BE2AF3',s = 250,marker = \"X\")\n",
    "\n",
    "plt.scatter(sonR['Y'],sonR['X'],c='#60D8F6',s = 250,marker = \"^\")\n",
    "plt.scatter(sofR['Y'],sofR['X'],c='#60D8F6',s = 250,marker = \"h\" )\n",
    "plt.scatter(sggR['Y'],sggR['X'],c='#60D8F6',s = 250 ,marker = '*')\n",
    "plt.scatter(sbR['Y'],sbR['X'],c='#60D8F6',s = 250 ,marker = \"X\")\n",
    "\n",
    "plt.scatter(sonH['Y'],sonH['X'],c='#F6BF60',s = 250,marker = \"^\")\n",
    "plt.scatter(sofH['Y'],sofH['X'],c='#F6BF60',s = 250,marker = \"h\")\n",
    "plt.scatter(sggH['Y'],sggH['X'],c='#F6BF60',s = 250 ,marker = '*')\n",
    "plt.scatter(sbH['Y'],sbH['X'],c='#F6BF60',s = 250,marker = \"X\")\n",
    "\n"
   ]
  },
  {
   "cell_type": "code",
   "execution_count": 11,
   "id": "3ae0b279",
   "metadata": {},
   "outputs": [
    {
     "data": {
      "image/png": "[encoded data removed]",
      "text/plain": [
       "<Figure size 1440x720 with 1 Axes>"
      ]
     },
     "metadata": {
      "needs_background": "light"
     },
     "output_type": "display_data"
    }
   ],
   "source": [
    "pitch = VerticalPitch(pitch_length=100, pitch_width=100,\n",
    "              axis=True, label=True,pitch_color = '#538053',half=True)\n",
    "fig,ax =pitch.draw(figsize =(20,10))\n",
    "for i in range(len(shX)):\n",
    "    plt.text(shY[i]-1,shX[i]-2,shName[i])"
   ]
  },
  {
   "cell_type": "code",
   "execution_count": null,
   "id": "8a0091fb",
   "metadata": {},
   "outputs": [],
   "source": []
  },
  {
   "cell_type": "code",
   "execution_count": null,
   "id": "4f16a5a9",
   "metadata": {},
   "outputs": [],
   "source": []
  },
  {
   "cell_type": "code",
   "execution_count": null,
   "id": "cc1d77e2",
   "metadata": {},
   "outputs": [],
   "source": []
  },
  {
   "cell_type": "code",
   "execution_count": null,
   "id": "9d6325bb",
   "metadata": {},
   "outputs": [],
   "source": []
  },
  {
   "cell_type": "code",
   "execution_count": null,
   "id": "80bddefe",
   "metadata": {},
   "outputs": [],
   "source": []
  },
  {
   "cell_type": "code",
   "execution_count": null,
   "id": "57739d02",
   "metadata": {},
   "outputs": [],
   "source": []
  }
 ],
 "metadata": {
  "kernelspec": {
   "display_name": "Python 3",
   "language": "python",
   "name": "python3"
  },
  "language_info": {
   "codemirror_mode": {
    "name": "ipython",
    "version": 3
   },
   "file_extension": ".py",
   "mimetype": "text/x-python",
   "name": "python",
   "nbconvert_exporter": "python",
   "pygments_lexer": "ipython3",
   "version": "3.8.8"
  }
 },
 "nbformat": 4,
 "nbformat_minor": 5
}
